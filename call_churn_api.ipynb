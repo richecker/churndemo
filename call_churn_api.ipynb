{
 "cells": [
  {
   "cell_type": "code",
   "execution_count": 1,
   "metadata": {},
   "outputs": [
    {
     "name": "stdout",
     "output_type": "stream",
     "text": [
      "200\n",
      "{'Server': 'nginx', 'Date': 'Thu, 08 Aug 2019 13:00:26 GMT', 'Content-Type': 'application/json', 'Content-Length': '221', 'Connection': 'keep-alive', 'Access-Control-Allow-Headers': 'authorization,content-type', 'Access-Control-Allow-Methods': 'POST', 'Access-Control-Allow-Origin': '*', 'Vary': 'Accept-Encoding', 'X-Request-Id': 'RLIDO320BV96Q7NY', 'X-Frame-Options': 'SAMEORIGIN', 'Content-Security-Policy': \"frame-ancestors 'self'\", 'Strict-Transport-Security': 'max-age=15768000; includeSubDomains'}\n",
      "{'model_time_in_ms': 0, 'release': {'harness_version': '0.1', 'model_version': '5d013eabc9e77c0007d4502e', 'model_version_number': 8}, 'request_id': 'RLIDO320BV96Q7NY', 'result': [0.00012366648059019332], 'timing': 0.3228187561035156}\n"
     ]
    }
   ],
   "source": [
    "import requests\n",
    "import numpy as np\n",
    "\n",
    "response = requests.post(\"https://vip.domino.tech:443/models/5cab7be8c9e77c000762c223/latest/model\",\n",
    "    auth=(\n",
    "        \"VFWNdpPEtgpPgjeuOHuPzqDPj2zxEaW44n9F5l6llJ2PVl1nqY33PJQWIbPgnnj1\",\n",
    "        \"VFWNdpPEtgpPgjeuOHuPzqDPj2zxEaW44n9F5l6llJ2PVl1nqY33PJQWIbPgnnj1\"\n",
    "    ),\n",
    "    json={\n",
    "        \"data\": {\n",
    "        \"dropperc\": abs(np.random.exponential())/100,\n",
    "        \"mins\": abs(np.random.normal(300,200)),\n",
    "        \"consecmonths\": abs(np.random.normal(25,8)),\n",
    "        \"income\": abs(np.random.normal(70,25)),\n",
    "        \"age\": abs(np.random.uniform(18,80))\n",
    "    }\n",
    "}\n",
    ")\n",
    " \n",
    "print(response.status_code)\n",
    "print(response.headers)\n",
    "print(response.json())"
   ]
  },
  {
   "cell_type": "code",
   "execution_count": 2,
   "metadata": {},
   "outputs": [
    {
     "data": {
      "text/plain": [
       "<Response [200]>"
      ]
     },
     "execution_count": 2,
     "metadata": {},
     "output_type": "execute_result"
    }
   ],
   "source": [
    "response"
   ]
  },
  {
   "cell_type": "code",
   "execution_count": 3,
   "metadata": {},
   "outputs": [],
   "source": []
  }
 ],
 "metadata": {
  "kernelspec": {
   "display_name": "Python 3",
   "language": "python",
   "name": "python3"
  },
  "language_info": {
   "codemirror_mode": {
    "name": "ipython",
    "version": 3
   },
   "file_extension": ".py",
   "mimetype": "text/x-python",
   "name": "python",
   "nbconvert_exporter": "python",
   "pygments_lexer": "ipython3",
   "version": "3.6.6"
  }
 },
 "nbformat": 4,
 "nbformat_minor": 2
}
