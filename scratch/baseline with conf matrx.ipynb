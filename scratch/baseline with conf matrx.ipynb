{
 "cells": [
  {
   "cell_type": "code",
   "execution_count": 1,
   "metadata": {
    "collapsed": true
   },
   "outputs": [],
   "source": [
    "import sklearn as sk\n",
    "import numpy as np\n",
    "import pandas as pd\n",
    "from sklearn import metrics\n",
    "import matplotlib.pyplot as plt\n",
    " \n",
    "# baseline data\n",
    "df_baseline = pd.read_csv('/mnt/data/churndata.csv', header=0, index_col=0)\n",
    "create_dummies = pd.get_dummies(df_baseline['churn'],prefix='churn', drop_first=True)  \n",
    "df_baseline=pd.concat([df_baseline,create_dummies],axis=1)\n",
    "df_baseline = df_baseline.drop(['churn'], axis=1)\n",
    "baseline_cols = ['consecmonths', 'KPI_DeviceSat', 'KPI_NetworkQual']\n",
    "y_baseline = df_baseline['churn_Y'].values\n",
    "X_baseline = df_baseline[baseline_cols].values\n",
    " \n",
    " \n",
    "#Get Baseline Model\n",
    "import pickle\n",
    "baseline_model = pickle.load(open('/mnt/output/baseline.pkl', 'rb'))\n",
    "tprs_baseline = []\n",
    "aucs_baseline = []\n",
    "accs_baseline = []\n",
    "mean_fpr_baseline = np.linspace(0, 1, 100)\n",
    " \n",
    "probas_ = baseline_model.predict_proba(X_baseline)\n",
    "preds_ = baseline_model.predict(X_baseline)\n",
    "fpr_baseline, tpr_baseline, thresholds_baseline = metrics.roc_curve(y_baseline, probas_[:, 1])\n",
    "tprs_baseline.append(np.interp(mean_fpr_baseline, fpr_baseline, tpr_baseline))\n",
    "tprs_baseline[-1][0] = 0.0\n",
    "roc_auc_baseline = metrics.auc(fpr_baseline, tpr_baseline)\n",
    "aucs_baseline.append(roc_auc_baseline)\n",
    "accuracy_baseline = metrics.accuracy_score(y_baseline, preds_)\n",
    "accs_baseline.append(accuracy_baseline)\n",
    "acc_baseline = np.mean(accs_baseline)\n",
    "auc_baseline = np.mean(aucs_baseline)\n",
    " \n",
    "# Make Plot\n",
    "plt.plot([0, 1], [0, 1], linestyle='--', lw=2, color='r', alpha=.8)\n",
    "plt.plot(fpr_baseline,tpr_baseline,color='b', label= 'Baseline: AUC = %0.3f Acc = %0.3f' % (auc_baseline, acc_baseline))\n",
    " \n",
    " \n",
    "plt.xlim([-0.05, 1.05])\n",
    "plt.ylim([-0.05, 1.05])\n",
    "plt.xlabel('False Positive Rate')\n",
    "plt.ylabel('True Positive Rate')\n",
    "plt.title('ROC Curve and Metrics for the Baseline Model')\n",
    "plt.legend(loc=\"lower right\")\n",
    " \n",
    "#write out resutls\n",
    "plt.savefig('/mnt/output/AUC_ACC_Baseline.png', format='png')\n",
    "plt.gcf().clear()"
   ]
  },
  {
   "cell_type": "code",
   "execution_count": 2,
   "metadata": {},
   "outputs": [
    {
     "data": {
      "text/plain": [
       "array([[7387,  220],\n",
       "       [ 357,   40]])"
      ]
     },
     "execution_count": 2,
     "metadata": {},
     "output_type": "execute_result"
    }
   ],
   "source": [
    "metrics.confusion_matrix(y_baseline, preds_)"
   ]
  },
  {
   "cell_type": "code",
   "execution_count": 14,
   "metadata": {
    "collapsed": true
   },
   "outputs": [],
   "source": [
    "import numpy as np\n",
    "\n",
    "\n",
    "def plot_confusion_matrix(cm,\n",
    "                          target_names,\n",
    "                          title='Confusion matrix',\n",
    "                          cmap=None,\n",
    "                          normalize=True):\n",
    "    \"\"\"\n",
    "    given a sklearn confusion matrix (cm), make a nice plot\n",
    "\n",
    "    Arguments\n",
    "    ---------\n",
    "    cm:           confusion matrix from sklearn.metrics.confusion_matrix\n",
    "\n",
    "    target_names: given classification classes such as [0, 1, 2]\n",
    "                  the class names, for example: ['high', 'medium', 'low']\n",
    "\n",
    "    title:        the text to display at the top of the matrix\n",
    "\n",
    "    cmap:         the gradient of the values displayed from matplotlib.pyplot.cm\n",
    "                  see http://matplotlib.org/examples/color/colormaps_reference.html\n",
    "                  plt.get_cmap('jet') or plt.cm.Blues\n",
    "\n",
    "    normalize:    If False, plot the raw numbers\n",
    "                  If True, plot the proportions\n",
    "\n",
    "    Usage\n",
    "    -----\n",
    "    plot_confusion_matrix(cm           = cm,                  # confusion matrix created by\n",
    "                                                              # sklearn.metrics.confusion_matrix\n",
    "                          normalize    = True,                # show proportions\n",
    "                          target_names = y_labels_vals,       # list of names of the classes\n",
    "                          title        = best_estimator_name) # title of graph\n",
    "\n",
    "    Citiation\n",
    "    ---------\n",
    "    http://scikit-learn.org/stable/auto_examples/model_selection/plot_confusion_matrix.html\n",
    "\n",
    "    \"\"\"\n",
    "    import matplotlib.pyplot as plt\n",
    "    import numpy as np\n",
    "    import itertools\n",
    "\n",
    "    accuracy = np.trace(cm) / float(np.sum(cm))\n",
    "    misclass = 1 - accuracy\n",
    "\n",
    "    if cmap is None:\n",
    "        cmap = plt.get_cmap('Blues')\n",
    "\n",
    "    plt.figure(figsize=(8, 6))\n",
    "    plt.imshow(cm, interpolation='nearest', cmap=cmap)\n",
    "    plt.title(title)\n",
    "    plt.colorbar()\n",
    "\n",
    "    if target_names is not None:\n",
    "        tick_marks = np.arange(len(target_names))\n",
    "        plt.xticks(tick_marks, target_names, rotation=45)\n",
    "        plt.yticks(tick_marks, target_names)\n",
    "\n",
    "    if normalize:\n",
    "        cm = cm.astype('float') / cm.sum(axis=1)[:, np.newaxis]\n",
    "\n",
    "\n",
    "    thresh = cm.max() / 1.5 if normalize else cm.max() / 2\n",
    "    for i, j in itertools.product(range(cm.shape[0]), range(cm.shape[1])):\n",
    "        if normalize:\n",
    "            plt.text(j, i, \"{:0.4f}\".format(cm[i, j]),\n",
    "                     horizontalalignment=\"center\",\n",
    "                     color=\"white\" if cm[i, j] > thresh else \"black\")\n",
    "        else:\n",
    "            plt.text(j, i, \"{:,}\".format(cm[i, j]),\n",
    "                     horizontalalignment=\"center\",\n",
    "                     color=\"white\" if cm[i, j] > thresh else \"black\")\n",
    "\n",
    "\n",
    "    plt.tight_layout()\n",
    "    plt.ylabel('True label')\n",
    "    plt.xlabel('Predicted label\\naccuracy={:0.4f}; misclass={:0.4f}'.format(accuracy, misclass))\n",
    "    plt.gcf().subplots_adjust(bottom=0.25)\n",
    "    plt.savefig('/mnt/output/ConfMatx_Baseline.png', format='png')\n",
    "    plt.show()\n",
    "    plt.gcf().clear()"
   ]
  },
  {
   "cell_type": "code",
   "execution_count": 15,
   "metadata": {},
   "outputs": [
    {
     "data": {
      "text/plain": [
       "<Figure size 432x288 with 0 Axes>"
      ]
     },
     "metadata": {},
     "output_type": "display_data"
    },
    {
     "data": {
      "image/png": "[encoded data removed]",
      "text/plain": [
       "<Figure size 576x432 with 2 Axes>"
      ]
     },
     "metadata": {},
     "output_type": "display_data"
    }
   ],
   "source": [
    "plot_confusion_matrix(cm           = metrics.confusion_matrix(y_baseline, preds_), \n",
    "                      normalize    = False,\n",
    "                      target_names = ['no churn', 'churn'],\n",
    "                      title        = \"Confusion Matrix for Baseline Model\")"
   ]
  }
 ],
 "metadata": {
  "kernelspec": {
   "display_name": "Python 3",
   "language": "python",
   "name": "python3"
  },
  "language_info": {
   "codemirror_mode": {
    "name": "ipython",
    "version": 3
   },
   "file_extension": ".py",
   "mimetype": "text/x-python",
   "name": "python",
   "nbconvert_exporter": "python",
   "pygments_lexer": "ipython3",
   "version": "3.6.2"
  }
 },
 "nbformat": 4,
 "nbformat_minor": 2
}
