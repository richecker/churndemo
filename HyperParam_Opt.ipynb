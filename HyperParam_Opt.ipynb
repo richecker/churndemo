{
 "cells": [
  {
   "cell_type": "code",
   "execution_count": 1,
   "metadata": {},
   "outputs": [],
   "source": [
    "#New update\n",
    "\n",
    "# Setup\n",
    "import sklearn as sk\n",
    "from sklearn.ensemble import GradientBoostingClassifier\n",
    "from sklearn.ensemble import AdaBoostClassifier\n",
    "\n",
    "import numpy as np\n",
    "import matplotlib.pyplot as plt\n",
    "import pandas as pd\n",
    "import sys"
   ]
  },
  {
   "cell_type": "code",
   "execution_count": 2,
   "metadata": {},
   "outputs": [],
   "source": [
    "#sk.__version__"
   ]
  },
  {
   "cell_type": "code",
   "execution_count": 3,
   "metadata": {},
   "outputs": [],
   "source": [
    "# Import Data\n",
    "df = pd.read_csv('/mnt/data/prepared.csv', header=0, index_col=0)\n",
    "\n",
    "df_baseline = pd.read_csv('/mnt/data/churndata.csv', header=0, index_col=0)\n",
    "create_dummies = pd.get_dummies(df_baseline['churn'],prefix='churn', drop_first=True)  \n",
    "df_baseline=pd.concat([df_baseline,create_dummies],axis=1)\n",
    "df_baseline = df_baseline.drop(['churn'], axis=1)\n",
    " \n",
    "columns = list(df.columns)\n",
    "columns.remove('churn_Y')\n",
    "y = df[\"churn_Y\"].values\n",
    "X = df[columns].values\n",
    "\n",
    "baseline_cols = ['consecmonths', 'KPI_DeviceSat', 'KPI_NetworkQual']\n",
    "y_baseline = df_baseline['churn_Y'].values\n",
    "X_baseline = df_baseline[baseline_cols].values"
   ]
  },
  {
   "cell_type": "code",
   "execution_count": 4,
   "metadata": {},
   "outputs": [],
   "source": [
    "#df_baseline.head()"
   ]
  },
  {
   "cell_type": "code",
   "execution_count": 5,
   "metadata": {},
   "outputs": [],
   "source": [
    "#dignose dim mismatch when generating predictions on test data\n",
    "#total = len(create_dummies)\n",
    "#churn = len(create_dummies[create_dummies.churn_Y == 1])\n",
    "#no_churn = len(create_dummies[create_dummies.churn_Y == 0])"
   ]
  },
  {
   "cell_type": "code",
   "execution_count": 6,
   "metadata": {},
   "outputs": [],
   "source": [
    "#print(total, churn, no_churn)"
   ]
  },
  {
   "cell_type": "code",
   "execution_count": 7,
   "metadata": {},
   "outputs": [],
   "source": [
    "#len(y)"
   ]
  },
  {
   "cell_type": "code",
   "execution_count": 8,
   "metadata": {},
   "outputs": [],
   "source": [
    "#len(y_baseline)"
   ]
  },
  {
   "cell_type": "code",
   "execution_count": 9,
   "metadata": {},
   "outputs": [
    {
     "name": "stderr",
     "output_type": "stream",
     "text": [
      "/usr/local/anaconda/lib/python3.6/site-packages/sklearn/base.py:311: UserWarning: Trying to unpickle estimator LogisticRegression from version 0.19.0 when using version 0.19.1. This might lead to breaking code or invalid results. Use at your own risk.\n",
      "  UserWarning)\n"
     ]
    }
   ],
   "source": [
    "import pickle\n",
    "\n",
    "# load baseline model\n",
    "baseline_model = pickle.load(open('/mnt/results/baseline.pkl', 'rb'))"
   ]
  },
  {
   "cell_type": "code",
   "execution_count": 10,
   "metadata": {},
   "outputs": [],
   "source": [
    "#override default values via sysargs\n",
    "model_ = 'gb' #sys.argv[1]\n",
    "loss_ = 'exponential' #sys.argv[2]\n",
    "n_estimators_ = 20 #int(sys.argv[3])\n",
    "lr = 1 #float(sys.argv[4])"
   ]
  },
  {
   "cell_type": "code",
   "execution_count": 11,
   "metadata": {},
   "outputs": [],
   "source": [
    "if model_ == 'gb':\n",
    "    clf = GradientBoostingClassifier(loss = loss_, n_estimators = n_estimators_, learning_rate = lr)\n",
    "elif model_ == 'ada':\n",
    "    clf = AdaBoostClassifier(n_estimators = n_estimators_, learning_rate = lr)\n",
    "\n",
    "clf = clf.fit(X, y)\n",
    "clfprb = clf.predict_proba(X)"
   ]
  },
  {
   "cell_type": "code",
   "execution_count": 12,
   "metadata": {},
   "outputs": [],
   "source": [
    "# Evaluate Model\n",
    "from sklearn import metrics\n",
    "from sklearn.model_selection import KFold\n",
    "\n",
    "kf = KFold(n_splits=5)\n",
    " \n",
    "tprs = []\n",
    "aucs = []\n",
    "accs = []\n",
    "mean_fpr = np.linspace(0, 1, 100)\n",
    " \n",
    "i = 0\n",
    "for train_index, test_index in kf.split(X):\n",
    "    X_train, X_test = X[train_index], X[test_index]\n",
    "    y_train, y_test = y[train_index], y[test_index]\n",
    "    \n",
    "    clf = clf.fit(X_train, y_train)\n",
    "    preds_ = clf.predict(X_test)\n",
    "    probas_ = clf.predict_proba(X_test)\n",
    "    \n",
    "    fpr, tpr, thresholds = metrics.roc_curve(y_test, probas_[:, 1])\n",
    "    \n",
    "    tprs.append(np.interp(mean_fpr, fpr, tpr))\n",
    "    tprs[-1][0] = 0.0\n",
    "    roc_auc = metrics.auc(fpr, tpr)\n",
    "    aucs.append(roc_auc)\n",
    "    accuracy = metrics.accuracy_score(y_test, preds_)\n",
    "    accs.append(accuracy)\n",
    "    i += 1\n",
    "    \n",
    "mean_acc = np.mean(accs)\n",
    "std_acc = np.std(accs)\n",
    "mean_tpr = np.mean(tprs, axis = 0)\n",
    "mean_tpr[-1] = 1.0\n",
    "mean_auc = np.mean(aucs)\n",
    "std_auc = np.std(aucs)"
   ]
  },
  {
   "cell_type": "code",
   "execution_count": 13,
   "metadata": {},
   "outputs": [
    {
     "data": {
      "text/plain": [
       "(1587,)"
      ]
     },
     "execution_count": 13,
     "metadata": {},
     "output_type": "execute_result"
    }
   ],
   "source": [
    "y_test.shape"
   ]
  },
  {
   "cell_type": "code",
   "execution_count": 14,
   "metadata": {},
   "outputs": [
    {
     "data": {
      "text/plain": [
       "1587"
      ]
     },
     "execution_count": 14,
     "metadata": {},
     "output_type": "execute_result"
    }
   ],
   "source": [
    "len(probas_)"
   ]
  },
  {
   "cell_type": "code",
   "execution_count": 15,
   "metadata": {},
   "outputs": [
    {
     "data": {
      "text/plain": [
       "1587"
      ]
     },
     "execution_count": 15,
     "metadata": {},
     "output_type": "execute_result"
    }
   ],
   "source": [
    "len(preds_)"
   ]
  },
  {
   "cell_type": "code",
   "execution_count": 16,
   "metadata": {},
   "outputs": [
    {
     "data": {
      "text/plain": [
       "(6352, 1587, 6352, 1587)"
      ]
     },
     "execution_count": 16,
     "metadata": {},
     "output_type": "execute_result"
    }
   ],
   "source": [
    "len(X_train), len(X_test), len(y_train), len(y_test)"
   ]
  },
  {
   "cell_type": "code",
   "execution_count": 17,
   "metadata": {},
   "outputs": [
    {
     "data": {
      "text/plain": [
       "(6352,)"
      ]
     },
     "execution_count": 17,
     "metadata": {},
     "output_type": "execute_result"
    }
   ],
   "source": [
    "y_train.shape"
   ]
  },
  {
   "cell_type": "code",
   "execution_count": 18,
   "metadata": {},
   "outputs": [
    {
     "data": {
      "text/plain": [
       "(1587,)"
      ]
     },
     "execution_count": 18,
     "metadata": {},
     "output_type": "execute_result"
    }
   ],
   "source": [
    "y_test.shape"
   ]
  },
  {
   "cell_type": "code",
   "execution_count": 19,
   "metadata": {},
   "outputs": [],
   "source": [
    "tprs_baseline = []\n",
    "aucs_baseline = []\n",
    "accs_baseline = []\n",
    "mean_fpr_baseline = np.linspace(0, 1, 100)\n",
    " \n",
    "probas_base_ = baseline_model.predict_proba(X_baseline)\n",
    "preds_base_ = baseline_model.predict(X_baseline)\n",
    "fpr_baseline, tpr_baseline, thresholds_baseline = metrics.roc_curve(y_baseline, probas_base_[:, 1])\n",
    "tprs_baseline.append(np.interp(mean_fpr_baseline, fpr_baseline, tpr_baseline))\n",
    "tprs[-1][0] = 0.0\n",
    "roc_auc_baseline = metrics.auc(fpr_baseline, tpr_baseline)\n",
    "aucs_baseline.append(roc_auc_baseline)\n",
    "accuracy_baseline = metrics.accuracy_score(y_baseline, preds_base_)\n",
    "accs_baseline.append(accuracy_baseline)\n",
    "acc_baseline = np.mean(accs_baseline)\n",
    "auc_baseline = np.mean(aucs_baseline)"
   ]
  },
  {
   "cell_type": "code",
   "execution_count": 37,
   "metadata": {},
   "outputs": [
    {
     "data": {
      "image/png": "[encoded data removed]",
      "text/plain": [
       "<Figure size 432x288 with 1 Axes>"
      ]
     },
     "metadata": {},
     "output_type": "display_data"
    }
   ],
   "source": [
    "std_tpr = np.std(tprs, axis=0)\n",
    "tprs_upper = np.minimum(mean_tpr + 2*std_tpr, 1)\n",
    "tprs_lower = np.maximum(mean_tpr - 2*std_tpr, 0)\n",
    "plt.fill_between(mean_fpr, tprs_lower, tprs_upper, color='grey', alpha=.2,\n",
    "                 label=r'$\\pm$ 2 std. dev.')\n",
    " \n",
    "plt.plot([0, 1], [0, 1], linestyle='--', lw=2, color='r', alpha=.8)\n",
    "plt.plot(mean_fpr, mean_tpr, color='b', lw=2, alpha=.8, label='New:  Avg AUC = %0.3f Avg Acc = %0.3f' % (mean_auc, mean_acc))\n",
    "plt.plot(fpr_baseline,tpr_baseline,color='red', label=        'Baseline: AUC = %0.3f     Acc = %0.3f' % (auc_baseline, acc_baseline))\n",
    "#plt.text(0.6, 0.125, 'Mean AUC = %0.3f' % (mean_auc))\n",
    "#plt.text(0.6, 0.2, 'Mean Accuracy = %0.3f' % (mean_acc))\n",
    "\n",
    "plt.xlim([-0.05, 1.05])\n",
    "plt.ylim([-0.05, 1.05])\n",
    "plt.xlabel('False Positive Rate')\n",
    "plt.ylabel('True Positive Rate')\n",
    "\n",
    "if model_ == 'gb':\n",
    "    plt.title(\"K=5 CV ROC: Model = \" + model_ + \" Loss = \" + loss_[:3] + \" N_est = \" + str(n_estimators_) + \" LR = \" + str(lr))\n",
    "elif model_ == 'ada':\n",
    "    plt.title(\"K=5 CV ROC: Model = \" + model_ + \" N_est = \" + str(n_estimators_)  + \"LR = \" + str(lr))\n",
    "plt.legend(loc=\"lower right\")\n",
    " \n",
    "#write out results\n",
    "plt.savefig('/mnt/results/AUC_ACC_' + model_ + '_' + str(n_estimators_) +'.png', format='png')\n",
    "  "
   ]
  },
  {
   "cell_type": "code",
   "execution_count": 21,
   "metadata": {},
   "outputs": [
    {
     "data": {
      "text/plain": [
       "(1587,)"
      ]
     },
     "execution_count": 21,
     "metadata": {},
     "output_type": "execute_result"
    }
   ],
   "source": [
    "preds_.shape"
   ]
  },
  {
   "cell_type": "code",
   "execution_count": 22,
   "metadata": {},
   "outputs": [
    {
     "data": {
      "text/plain": [
       "(1587,)"
      ]
     },
     "execution_count": 22,
     "metadata": {},
     "output_type": "execute_result"
    }
   ],
   "source": [
    "y_test.shape"
   ]
  },
  {
   "cell_type": "code",
   "execution_count": 42,
   "metadata": {},
   "outputs": [],
   "source": [
    "#make confusion matrix plot\n",
    "def plot_confusion_matrix(cm,\n",
    "                          target_names,\n",
    "                          title='Confusion matrix',\n",
    "                          cmap=None,\n",
    "                          normalize=True):\n",
    "    \"\"\"\n",
    "    given a sklearn confusion matrix (cm), make a nice plot\n",
    " \n",
    "    Arguments\n",
    "    ---------\n",
    "    cm:           confusion matrix from sklearn.metrics.confusion_matrix\n",
    " \n",
    "    target_names: given classification classes such as [0, 1, 2]\n",
    "                  the class names, for example: ['high', 'medium', 'low']\n",
    " \n",
    "    title:        the text to display at the top of the matrix\n",
    " \n",
    "    cmap:         the gradient of the values displayed from matplotlib.pyplot.cm\n",
    "                  see http://matplotlib.org/examples/color/colormaps_reference.html\n",
    "                  plt.get_cmap('jet') or plt.cm.Blues\n",
    " \n",
    "    normalize:    If False, plot the raw numbers\n",
    "                  If True, plot the proportions\n",
    " \n",
    "    Usage\n",
    "    -----\n",
    "    plot_confusion_matrix(cm           = cm,                  # confusion matrix created by\n",
    "                                                              # sklearn.metrics.confusion_matrix\n",
    "                          normalize    = True,                # show proportions\n",
    "                          target_names = y_labels_vals,       # list of names of the classes\n",
    "                          title        = best_estimator_name) # title of graph\n",
    " \n",
    "    Citiation\n",
    "    ---------\n",
    "    http://scikit-learn.org/stable/auto_examples/model_selection/plot_confusion_matrix.html\n",
    " \n",
    "    \"\"\"\n",
    "    import matplotlib.pyplot as plt\n",
    "    import numpy as np\n",
    "    import itertools\n",
    " \n",
    "    accuracy = np.trace(cm) / float(np.sum(cm))\n",
    "    misclass = 1 - accuracy\n",
    " \n",
    "    if cmap is None:\n",
    "        cmap = plt.get_cmap('Blues')\n",
    " \n",
    "    plt.figure(figsize=(8, 6))\n",
    "    plt.imshow(cm, interpolation='nearest', cmap=cmap)\n",
    "    plt.title(title)\n",
    "    plt.colorbar()\n",
    " \n",
    "    if target_names is not None:\n",
    "        tick_marks = np.arange(len(target_names))\n",
    "        plt.xticks(tick_marks, target_names, rotation=45)\n",
    "        plt.yticks(tick_marks, target_names)\n",
    " \n",
    "    if normalize:\n",
    "        cm = cm.astype('float') / cm.sum(axis=1)[:, np.newaxis]\n",
    " \n",
    " \n",
    "    thresh = cm.max() / 1.5 if normalize else cm.max() / 2\n",
    "    for i, j in itertools.product(range(cm.shape[0]), range(cm.shape[1])):\n",
    "        if normalize:\n",
    "            plt.text(j, i, \"{:0.4f}\".format(cm[i, j]),\n",
    "                     horizontalalignment=\"center\",\n",
    "                     color=\"white\" if cm[i, j] > thresh else \"black\")\n",
    "        else:\n",
    "            plt.text(j, i, \"{:,}\".format(cm[i, j]),\n",
    "                     horizontalalignment=\"center\",\n",
    "                     color=\"white\" if cm[i, j] > thresh else \"black\")\n",
    "            \n",
    "        \n",
    "        #print(i, j, cm[i,j])\n",
    " \n",
    " \n",
    "    plt.tight_layout()\n",
    "    plt.ylabel('True label')\n",
    "    plt.xlabel('Predicted label\\naccuracy={:0.4f}; misclass={:0.4f}'.format(accuracy, misclass))\n",
    "    plt.gcf().subplots_adjust(bottom=0.25)\n",
    "    plt.savefig('/mnt/results/ConfMatx_' + model_ + '_' + str(n_estimators_) + '.png', format='png')\n",
    "    plt.savefig('/mnt/results/ConfMatx_New.png', format='png')\n",
    "    plt.show()\n",
    "    #plt.gcf().clear()\n",
    "\n",
    "    fp = float(cm[0,1])\n",
    "    fn = float(cm[1,0])\n",
    "    tp = float(cm[1,1])\n",
    "    tn = float(cm[0,0])\n",
    "    \n",
    "    return fp, fn, tp, tn"
   ]
  },
  {
   "cell_type": "code",
   "execution_count": 43,
   "metadata": {},
   "outputs": [
    {
     "data": {
      "image/png": "[encoded data removed]",
      "text/plain": [
       "<Figure size 576x432 with 2 Axes>"
      ]
     },
     "metadata": {},
     "output_type": "display_data"
    }
   ],
   "source": [
    "fp, fn, tp, tn = plot_confusion_matrix(cm        = metrics.confusion_matrix(y_test, preds_), \n",
    "                    normalize    = False,\n",
    "                    target_names = ['no churn', 'churn'],\n",
    "                    title        = \"Confusion Matrix for Model = \" + model_ + \", N_Est = \" + str(n_estimators_))\n",
    "    "
   ]
  },
  {
   "cell_type": "code",
   "execution_count": 45,
   "metadata": {},
   "outputs": [],
   "source": [
    "import json\n",
    "\n",
    "precision = round(tp/(tp+fp),3)\n",
    "recall = round(tp/(tp+fn),3)\n",
    "f1 = round(2*((precision*recall)/(precision+recall)),3)\n",
    "\n",
    "with open('dominostats.json', 'w') as f:\n",
    "    f.write(json.dumps({\"Acc\": round(mean_acc, 3), \n",
    "                        \"AUC\": round(mean_auc, 3),\n",
    "                        \"FP\": fp,\n",
    "                        \"FN\": fn,\n",
    "                        \"Precision\": precision,\n",
    "                        \"Recall\": recall,\n",
    "                        \"F1\": f1}))"
   ]
  }
 ],
 "metadata": {
  "kernelspec": {
   "display_name": "Python 3",
   "language": "python",
   "name": "python3"
  },
  "language_info": {
   "codemirror_mode": {
    "name": "ipython",
    "version": 3
   },
   "file_extension": ".py",
   "mimetype": "text/x-python",
   "name": "python",
   "nbconvert_exporter": "python",
   "pygments_lexer": "ipython3",
   "version": "3.7.4"
  }
 },
 "nbformat": 4,
 "nbformat_minor": 4
}
