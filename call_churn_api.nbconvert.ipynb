{
 "cells": [
  {
   "cell_type": "code",
   "execution_count": 1,
   "metadata": {},
   "outputs": [
    {
     "name": "stdout",
     "output_type": "stream",
     "text": [
      "200\n",
      "{'Server': 'nginx', 'Date': 'Thu, 20 Jun 2019 14:51:31 GMT', 'Content-Type': 'application/json', 'Content-Length': '250', 'Connection': 'keep-alive', 'Access-Control-Allow-Headers': 'authorization,content-type', 'Access-Control-Allow-Methods': 'POST', 'Access-Control-Allow-Origin': '*', 'Vary': 'Accept-Encoding', 'X-Request-Id': '4HVJ9726MB3FKO0X', 'X-Frame-Options': 'SAMEORIGIN', 'Content-Security-Policy': \"frame-ancestors 'self'\", 'Strict-Transport-Security': 'max-age=15768000; includeSubDomains'}\n",
      "{'release': {'harness_version': '0.1', 'model_version': '5bb6a0d3c9e77c0007cdd20a', 'model_version_number': 2}, 'request_id': '4HVJ9726MB3FKO0X', 'result': [4.704327181517501e-05], 'timing': 0.3509999999984359}\n"
     ]
    }
   ],
   "source": [
    "import requests\n",
    "import numpy as np\n",
    " \n",
    "response = requests.post(\"https://vip.domino.tech:443/models/5bb51cefc9e77c000895e9fb/latest/model\",\n",
    "    auth=(\n",
    "        \"bhXa4KPB8XGJ7JS8CMKIJuac8l3bRuW7J9bjSMmSLaVs49qW0kj910lc90AxliR1\",\n",
    "        \"bhXa4KPB8XGJ7JS8CMKIJuac8l3bRuW7J9bjSMmSLaVs49qW0kj910lc90AxliR1\"\n",
    "    ),\n",
    "    json={\n",
    "        \"data\": {\n",
    "        \"dropperc\": abs(np.random.exponential())/100,\n",
    "        \"mins\": abs(np.random.normal(300,175)),\n",
    "        \"consecmonths\": abs(np.random.normal(25,8)),\n",
    "        \"income\": abs(np.random.normal(70,25))\n",
    "  }\n",
    "}\n",
    ")\n",
    " \n",
    "print(response.status_code)\n",
    "print(response.headers)\n",
    "print(response.json())"
   ]
  },
  {
   "cell_type": "code",
   "execution_count": 2,
   "metadata": {},
   "outputs": [
    {
     "data": {
      "text/plain": [
       "<Response [200]>"
      ]
     },
     "execution_count": 2,
     "metadata": {},
     "output_type": "execute_result"
    }
   ],
   "source": [
    "response"
   ]
  },
  {
   "cell_type": "code",
   "execution_count": 3,
   "metadata": {},
   "outputs": [],
   "source": []
  }
 ],
 "metadata": {
  "kernelspec": {
   "display_name": "Python 3",
   "language": "python",
   "name": "python3"
  },
  "language_info": {
   "codemirror_mode": {
    "name": "ipython",
    "version": 3
   },
   "file_extension": ".py",
   "mimetype": "text/x-python",
   "name": "python",
   "nbconvert_exporter": "python",
   "pygments_lexer": "ipython3",
   "version": "3.6.6"
  }
 },
 "nbformat": 4,
 "nbformat_minor": 2
}
